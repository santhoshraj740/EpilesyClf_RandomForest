{
 "cells": [
  {
   "cell_type": "code",
   "execution_count": 13,
   "id": "06127ccf-d8ff-4de1-a3d7-b06d31062c2c",
   "metadata": {},
   "outputs": [],
   "source": [
    "from glob import glob \n",
    "import scipy.io\n",
    "import numpy as np"
   ]
  },
  {
   "cell_type": "code",
   "execution_count": 15,
   "id": "eb90a525-024f-4a38-a173-81332c22e976",
   "metadata": {},
   "outputs": [],
   "source": [
    "ictal_path = glob(\"C:/Users/ssr17/EEG Epilepsy Datasets/ictal/*.mat\")\n",
    "interictal_path = glob(\"C:/Users/ssr17/EEG Epilepsy Datasets/interictal/*.mat\")\n",
    "preictal_path = glob(\"C:/Users/ssr17/EEG Epilepsy Datasets/preictal/*.mat\")"
   ]
  },
  {
   "cell_type": "code",
   "execution_count": 29,
   "id": "ba458aa2-a60c-4c0a-857f-e66dacd1a1f4",
   "metadata": {},
   "outputs": [
    {
     "data": {
      "text/plain": [
       "(50, 50, 50)"
      ]
     },
     "execution_count": 29,
     "metadata": {},
     "output_type": "execute_result"
    }
   ],
   "source": [
    "len(ictal_path), len(interictal_path), len(preictal_path)"
   ]
  },
  {
   "cell_type": "code",
   "execution_count": 23,
   "id": "7e7a1dfa-dba2-4355-ad59-374fa216e082",
   "metadata": {},
   "outputs": [
    {
     "name": "stdout",
     "output_type": "stream",
     "text": [
      "Dataset shape: (150, 1024) (150,)\n"
     ]
    }
   ],
   "source": [
    "#loading the .mat files and we are gonna stack them to create a single eeg_file data with labels\n",
    "def load_eeg_data(folder_path, label, key_name):\n",
    "    data = []\n",
    "    labels = []\n",
    "    for file in folder_path:\n",
    "        mat_contents = scipy.io.loadmat(file)\n",
    "        signal = np.array(mat_contents[key_name]).squeeze() #we are using squeeze as one of the dimentiosn size is 1\n",
    "        data.append(signal)\n",
    "        labels.append(label)\n",
    "    return np.array(data), np.array(labels)\n",
    "\n",
    "X_preictal, y_preictal = load_eeg_data(preictal_path, label=0,key_name='preictal')\n",
    "X_interictal, y_interictal = load_eeg_data(interictal_path, label=1,key_name='interictal')\n",
    "X_ictal, y_ictal = load_eeg_data(ictal_path, label=2,key_name='ictal')\n",
    "\n",
    "x = np.vstack((X_preictal,X_interictal,X_ictal))\n",
    "y = np.hstack((y_preictal,y_interictal,y_ictal))\n",
    "\n",
    "print(\"Dataset shape:\", x.shape, y.shape)"
   ]
  },
  {
   "cell_type": "code",
   "execution_count": 43,
   "id": "d94f7c1c-dbd4-42af-ac55-40cc20a200df",
   "metadata": {},
   "outputs": [
    {
     "name": "stdout",
     "output_type": "stream",
     "text": [
      "(150, 10)\n"
     ]
    }
   ],
   "source": [
    "#feature extraction for standard ML \n",
    "from scipy.stats import skew,kurtosis \n",
    "from scipy.signal import welch\n",
    "\n",
    "def feature_extraction(signal,fs=200):\n",
    "    features = []\n",
    "\n",
    "    #time-domain featrures \n",
    "    features.append(np.mean(signal))\n",
    "    features.append(np.std(signal))\n",
    "    features.append(skew(signal))\n",
    "    features.append(kurtosis(signal))\n",
    "    features.append(np.sqrt(np.mean(signal**2)))\n",
    "\n",
    "    #frequency-domain features \n",
    "    freqs, psd = welch(signal,fs=fs)\n",
    "    bands = {'delta':(0.5,4), 'theta':(4,8), 'alpha':(8,13), 'beta':(13,30), 'gamma':(30,70)}\n",
    "\n",
    "    for band, (low,high) in bands.items():\n",
    "        idx = np.logical_and(freqs>=low,freqs<=high)\n",
    "        features.append(np.sum(psd[idx]))\n",
    "    return np.array(features)\n",
    "\n",
    "x_features = np.array([feature_extraction(sig) for sig in x])\n",
    "\n",
    "print(x_features.shape)"
   ]
  },
  {
   "cell_type": "code",
   "execution_count": 49,
   "id": "11bfbd17-4650-4322-a609-6278f672e6ef",
   "metadata": {},
   "outputs": [
    {
     "name": "stdout",
     "output_type": "stream",
     "text": [
      "Accuracy: 0.9333333333333333\n",
      "              precision    recall  f1-score   support\n",
      "\n",
      "           0       1.00      0.80      0.89        10\n",
      "           1       0.83      1.00      0.91        10\n",
      "           2       1.00      1.00      1.00        10\n",
      "\n",
      "    accuracy                           0.93        30\n",
      "   macro avg       0.94      0.93      0.93        30\n",
      "weighted avg       0.94      0.93      0.93        30\n",
      "\n"
     ]
    }
   ],
   "source": [
    "from sklearn.model_selection import train_test_split\n",
    "from sklearn.ensemble import RandomForestClassifier\n",
    "from sklearn.metrics import accuracy_score, classification_report\n",
    "\n",
    "x_train , x_test, y_train, y_test = train_test_split(x_features, y, test_size=0.2, random_state=42, stratify=y)\n",
    "clf =RandomForestClassifier(n_estimators=100, random_state=42)\n",
    "clf.fit(x_train, y_train)\n",
    "\n",
    "y_prediction = clf.predict(x_test)\n",
    "\n",
    "print(\"Accuracy:\", accuracy_score(y_test,y_prediction))\n",
    "print(classification_report(y_test, y_prediction))"
   ]
  },
  {
   "cell_type": "code",
   "execution_count": null,
   "id": "3b9e4b16-f02e-47ca-88b2-edd0632804aa",
   "metadata": {},
   "outputs": [],
   "source": []
  }
 ],
 "metadata": {
  "kernelspec": {
   "display_name": "Python [conda env:base] *",
   "language": "python",
   "name": "conda-base-py"
  },
  "language_info": {
   "codemirror_mode": {
    "name": "ipython",
    "version": 3
   },
   "file_extension": ".py",
   "mimetype": "text/x-python",
   "name": "python",
   "nbconvert_exporter": "python",
   "pygments_lexer": "ipython3",
   "version": "3.12.7"
  }
 },
 "nbformat": 4,
 "nbformat_minor": 5
}
